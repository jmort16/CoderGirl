{
 "cells": [
  {
   "cell_type": "code",
   "execution_count": 1,
   "id": "b818ea5b",
   "metadata": {},
   "outputs": [],
   "source": [
    "def mathnrd(a,b):\n",
    "    summ = a + b\n",
    "    diff = a - b\n",
    "    prod = a * b\n",
    "    if summ == 0:\n",
    "        summ = 'zero'\n",
    "    if diff == 0:\n",
    "        diff = 'zero'\n",
    "    if prod == 0:\n",
    "        prod = 'zero'\n",
    "    print('a + b = ',summ)\n",
    "    print('a - b = ',diff)\n",
    "    print('a * b = ',prod)"
   ]
  },
  {
   "cell_type": "code",
   "execution_count": 2,
   "id": "e44cbf65",
   "metadata": {},
   "outputs": [
    {
     "name": "stdout",
     "output_type": "stream",
     "text": [
      "a + b =  8\n",
      "a - b =  -2\n",
      "a * b =  15\n"
     ]
    }
   ],
   "source": [
    "mathnrd(3,5)"
   ]
  },
  {
   "cell_type": "code",
   "execution_count": 3,
   "id": "ae4adac8",
   "metadata": {},
   "outputs": [
    {
     "name": "stdout",
     "output_type": "stream",
     "text": [
      "a + b =  6\n",
      "a - b =  zero\n",
      "a * b =  9\n"
     ]
    }
   ],
   "source": [
    "mathnrd(3,3)"
   ]
  },
  {
   "cell_type": "code",
   "execution_count": null,
   "id": "7ab50c67",
   "metadata": {},
   "outputs": [],
   "source": []
  },
  {
   "cell_type": "code",
   "execution_count": null,
   "id": "63cd5d4b",
   "metadata": {},
   "outputs": [],
   "source": []
  },
  {
   "cell_type": "code",
   "execution_count": null,
   "id": "5d64954b",
   "metadata": {},
   "outputs": [],
   "source": []
  },
  {
   "cell_type": "code",
   "execution_count": null,
   "id": "d75b23fe",
   "metadata": {},
   "outputs": [],
   "source": []
  },
  {
   "cell_type": "code",
   "execution_count": null,
   "id": "1ca411dc",
   "metadata": {},
   "outputs": [],
   "source": []
  },
  {
   "cell_type": "code",
   "execution_count": null,
   "id": "7fc98e58",
   "metadata": {},
   "outputs": [],
   "source": []
  },
  {
   "cell_type": "code",
   "execution_count": null,
   "id": "efcc1e46",
   "metadata": {},
   "outputs": [],
   "source": []
  },
  {
   "cell_type": "code",
   "execution_count": null,
   "id": "535250b2",
   "metadata": {},
   "outputs": [],
   "source": []
  },
  {
   "cell_type": "code",
   "execution_count": null,
   "id": "6bddae65",
   "metadata": {},
   "outputs": [],
   "source": []
  },
  {
   "cell_type": "code",
   "execution_count": null,
   "id": "9d520377",
   "metadata": {},
   "outputs": [],
   "source": []
  },
  {
   "cell_type": "code",
   "execution_count": null,
   "id": "a0e54a99",
   "metadata": {},
   "outputs": [],
   "source": []
  },
  {
   "cell_type": "code",
   "execution_count": null,
   "id": "fc343819",
   "metadata": {},
   "outputs": [],
   "source": []
  },
  {
   "cell_type": "code",
   "execution_count": null,
   "id": "f5eeca48",
   "metadata": {},
   "outputs": [],
   "source": []
  }
 ],
 "metadata": {
  "kernelspec": {
   "display_name": "Python 3 (ipykernel)",
   "language": "python",
   "name": "python3"
  },
  "language_info": {
   "codemirror_mode": {
    "name": "ipython",
    "version": 3
   },
   "file_extension": ".py",
   "mimetype": "text/x-python",
   "name": "python",
   "nbconvert_exporter": "python",
   "pygments_lexer": "ipython3",
   "version": "3.9.7"
  }
 },
 "nbformat": 4,
 "nbformat_minor": 5
}
